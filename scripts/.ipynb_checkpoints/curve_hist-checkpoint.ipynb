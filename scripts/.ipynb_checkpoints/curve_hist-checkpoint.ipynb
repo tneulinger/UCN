{
 "cells": [
  {
   "cell_type": "code",
   "execution_count": 49,
   "metadata": {},
   "outputs": [
    {
     "data": {
      "image/png": "[encoded data removed]",
      "text/plain": [
       "<matplotlib.figure.Figure at 0x7f72f9b00850>"
      ]
     },
     "metadata": {
      "needs_background": "light"
     },
     "output_type": "display_data"
    }
   ],
   "source": [
    "import numpy as np\n",
    "import matplotlib.pyplot as plt\n",
    "%matplotlib inline\n",
    "\n",
    "\n",
    "n_points = 101              # number of points to cut up curve into\n",
    "max_distance = 50           # distance tolerance \n",
    "data = np.load(\"cloud.npy\") # import data points to bin along curve\n",
    "\n",
    "\n",
    "\n",
    "# load the 3d curve\n",
    "file_name = \"curve.txt\"\n",
    "curve = np.loadtxt(\"curve.txt\")\n",
    "x_sample = curve[:,0]\n",
    "y_sample = curve[:,1]\n",
    "z_sample = curve[:,2]\n",
    "\n",
    "# interpolate\n",
    "from scipy import interpolate\n",
    "tck, u = interpolate.splprep([x_sample, y_sample, z_sample])\n",
    "u_eq = np.linspace(0,1,n_points)\n",
    "x_interp, y_interp, z_interp = interpolate.splev(u_eq, tck)\n",
    "\n",
    "# plt.rcParams[\"figure.figsize\"] = 8,8\n",
    "# plt.plot(z_sample, x_sample, '.')\n",
    "# plt.plot(z_interp, x_interp, \"r\")\n",
    "# plt.show()\n",
    "\n",
    "# do some geometry\n",
    "# point p0 in plane\n",
    "p0 = np.zeros((n_points,3))\n",
    "p0[:,0] = x_interp\n",
    "p0[:,1] = y_interp\n",
    "p0[:,2] = z_interp\n",
    "# normal vector to plane (last point assumes same vector as penultimate point)\n",
    "n = np.zeros((n_points,3))\n",
    "n[0:n_points-1,:] = p0[1:n_points,:] - p0[0:n_points-1,:]\n",
    "n[-1,:] = n[-2,:]\n",
    "# plane: a*x + b*y + c*z = d\n",
    "a = n[:,0]\n",
    "b = n[:,1]\n",
    "c = n[:,2]\n",
    "d = a*x_interp + b*y_interp + c*z_interp\n",
    "\n",
    "\n",
    "# make a histogram\n",
    "n_bins = n_points - 1\n",
    "hist = np.zeros(n_bins)\n",
    "in_pipe_x = []\n",
    "in_pipe_y = []\n",
    "in_pipe_z = []\n",
    "for point in data:\n",
    "    for k in range(n_points-1):\n",
    "        above_this_plane = ((a[k]*point[0] + b[k]*point[1] + c[k]*point[2]) > d[k])\n",
    "        below_next_plane = ((a[k+1]*point[0] + b[k+1]*point[1] + c[k+1]*point[2]) < d[k+1])\n",
    "        distance = np.sqrt((point[0]-x_interp[k])**2+(point[1]-y_interp[k])**2+(point[2]-z_interp[k])**2)\n",
    "        within_distance = (distance < max_distance)\n",
    "        if (above_this_plane and below_next_plane and within_distance):\n",
    "            in_pipe_x.append(point[0])\n",
    "            in_pipe_y.append(point[1])\n",
    "            in_pipe_z.append(point[2])\n",
    "            hist[k] += 1\n",
    "            break\n",
    "\n",
    "in_pipe = np.zeros((len(in_pipe_x),3))\n",
    "in_pipe[:,0] = in_pipe_x\n",
    "in_pipe[:,1] = in_pipe_y\n",
    "in_pipe[:,2] = in_pipe_z\n",
    "\n",
    "# plot the histogram\n",
    "plt.rcParams[\"figure.figsize\"] = 10,6\n",
    "x_bin = (u_eq[1:] - u_eq[:-1])/2 + u_eq[:-1]\n",
    "plt.step(x_bin, hist)\n",
    "plt.xlim((0.06,1))\n",
    "plt.ylim((-10,250))\n",
    "plt.xlabel(\"Fraction of distance along pipe\")\n",
    "plt.ylabel(\"Number of UCNs\")\n",
    "plt.grid()\n",
    "plt.show()"
   ]
  },
  {
   "cell_type": "code",
   "execution_count": 51,
   "metadata": {},
   "outputs": [
    {
     "name": "stdout",
     "output_type": "stream",
     "text": [
      "791.791354037\n"
     ]
    },
    {
     "data": {
      "image/png": "[encoded data removed]",
      "text/plain": [
       "<matplotlib.figure.Figure at 0x7f72f96c76d0>"
      ]
     },
     "metadata": {
      "needs_background": "light"
     },
     "output_type": "display_data"
    }
   ],
   "source": [
    "block_x1, block_y1, block_z1 = interpolate.splev(0.036, tck)\n",
    "block_x2, block_y2, block_z2 = interpolate.splev(0.050, tck)\n",
    "\n",
    "print block_z2\n",
    "\n",
    "# check that things are making sense\n",
    "plt.rcParams[\"figure.figsize\"] = 8,8\n",
    "# plt.plot(z_sample, x_sample, '.')\n",
    "plt.plot(z_interp, x_interp, \"r\")\n",
    "plt.plot(in_pipe[:,2], in_pipe[:,0], 'go')\n",
    "# plt.plot(block_z1, block_x1, 'k|', markersize=30, markeredgewidth=2)\n",
    "# plt.plot(block_z2, block_x2, 'k|', markersize=30, markeredgewidth=2)\n",
    "plt.show()"
   ]
  },
  {
   "cell_type": "code",
   "execution_count": 34,
   "metadata": {},
   "outputs": [
    {
     "data": {
      "text/plain": [
       "3.4722222222222228"
      ]
     },
     "execution_count": 34,
     "metadata": {},
     "output_type": "execute_result"
    }
   ],
   "source": [
    "125/0.036/1000"
   ]
  },
  {
   "cell_type": "code",
   "execution_count": 39,
   "metadata": {},
   "outputs": [
    {
     "name": "stdout",
     "output_type": "stream",
     "text": [
      "2.65\n",
      "0.990192531784\n"
     ]
    }
   ],
   "source": [
    "A = 53.\n",
    "B = 20.\n",
    "dA = np.sqrt(20)\n",
    "dB = np.sqrt(53)\n",
    "\n",
    "f = A/B\n",
    "df = f*np.sqrt((dA/A)**2 + (dB/B)**2)\n",
    "\n",
    "print f\n",
    "print df"
   ]
  },
  {
   "cell_type": "code",
   "execution_count": null,
   "metadata": {},
   "outputs": [],
   "source": []
  }
 ],
 "metadata": {
  "kernelspec": {
   "display_name": "Python 2",
   "language": "python",
   "name": "python2"
  },
  "language_info": {
   "codemirror_mode": {
    "name": "ipython",
    "version": 2
   },
   "file_extension": ".py",
   "mimetype": "text/x-python",
   "name": "python",
   "nbconvert_exporter": "python",
   "pygments_lexer": "ipython2",
   "version": "2.7.17"
  }
 },
 "nbformat": 4,
 "nbformat_minor": 2
}
