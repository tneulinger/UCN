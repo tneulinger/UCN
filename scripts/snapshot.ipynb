{
 "cells": [
  {
   "cell_type": "code",
   "execution_count": 2,
   "metadata": {},
   "outputs": [],
   "source": [
    "import numpy as np\n",
    "import matplotlib.pyplot as plt\n",
    "from mpl_toolkits.mplot3d import Axes3D\n",
    "%matplotlib inline\n",
    "\n",
    "# first segment to generate snapshots.in file\n",
    "\n",
    "# second segment to read and plot snapshots.out file"
   ]
  },
  {
   "cell_type": "markdown",
   "metadata": {},
   "source": [
    "Make snapshots.in files here"
   ]
  },
  {
   "cell_type": "code",
   "execution_count": 10,
   "metadata": {},
   "outputs": [],
   "source": [
    "dt = 0.005    # 5 millisecond time window\n",
    "t_start = 0   # seconds\n",
    "t_stop  = 7   # seconds\n",
    "t = np.arange(t_start, t_stop, dt)\n",
    "\n",
    "f = open(\"snapshots.in\", 'w')\n",
    "f.write(str(dt)+'\\n')\n",
    "for k in range(len(t)):\n",
    "    if k < len(t)-1:\n",
    "        f.write(str(t[k])+'\\n')\n",
    "    else:\n",
    "        f.write(str(t[k]))\n",
    "    \n",
    "f.close()"
   ]
  },
  {
   "cell_type": "markdown",
   "metadata": {},
   "source": [
    "Read snapshots.out files here"
   ]
  },
  {
   "cell_type": "code",
   "execution_count": null,
   "metadata": {},
   "outputs": [],
   "source": [
    "snapshotInputFile = \"../build/snapshots.in\"\n",
    "snapshotOutputFile = \"../build/snapshots.out\"\n",
    "\n",
    "# snapshotInputFile  = \"../models/sun2/filling/data/snapshots.in\"\n",
    "# snapshotOutputFile = \"../models/sun2/filling/data/snapshots.out\"\n",
    "\n",
    "# snapshotInputFile  = \"../models/sun2/filling_noBlock/data/snapshots.in\"\n",
    "# snapshotOutputFile = \"../models/sun2/filling_noBlock/data/snapshots.out\"\n",
    "\n",
    "def file_length(file_name):\n",
    "    with open(file_name) as f:\n",
    "        i = -1\n",
    "        for i, l in enumerate(f):\n",
    "            pass\n",
    "        return i+1\n",
    "\n",
    "# Read in requested snapshot times from input file\n",
    "n_input_lines = file_length(snapshotInputFile)\n",
    "snapshot_times = np.zeros(n_input_lines-1)\n",
    "f = open(snapshotInputFile, 'r')\n",
    "snapshot_dt = float(f.readline())\n",
    "for i in range(n_input_lines-1):\n",
    "    snapshot_times[i] = float(f.readline())\n",
    "f.close()\n",
    "\n",
    "# Read in snapshot output file\n",
    "n_output_lines = file_length(snapshotOutputFile)\n",
    "data = np.zeros((n_output_lines, 8))\n",
    "with open(snapshotOutputFile, 'r') as f:\n",
    "    for i, line in enumerate(f):\n",
    "        line_list = line.split(\" \")\n",
    "        time   = float(line_list[0][:-1])\n",
    "        energy = float(line_list[1][:-1])\n",
    "        position_vector = (line_list[2][1:-2]).split(\",\")\n",
    "        momentum_vector = (line_list[3][1:-2]).split(\",\")\n",
    "        x,  y,  z  = np.array(position_vector).astype(\"float\")  \n",
    "        px, py, pz = np.array(momentum_vector).astype(\"float\")\n",
    "        data[i,0] = time\n",
    "        data[i,1] = energy\n",
    "        data[i,2] = x\n",
    "        data[i,3] = y\n",
    "        data[i,4] = z\n",
    "        data[i,5] = px\n",
    "        data[i,6] = py\n",
    "        data[i,7] = pz\n",
    "\n",
    "snapshots = []\n",
    "for i in range(len(snapshot_times)):\n",
    "    t  = snapshot_times[i]\n",
    "    snapshot_indices = np.where((t <= np.array(data[:,0])) & (np.array(data[:,0])<= t + snapshot_dt))\n",
    "    n_UCNs_at_snapshot = len(snapshot_indices[0])\n",
    "    temp = np.zeros((n_UCNs_at_snapshot,3))\n",
    "    for j in range(n_UCNs_at_snapshot):\n",
    "        data_row = data[snapshot_indices[0][j],:]\n",
    "        temp[j,0] = data_row[2] # x\n",
    "        temp[j,1] = data_row[3] # y\n",
    "        temp[j,2] = data_row[4] # z\n",
    "    snapshots.append(temp)"
   ]
  },
  {
   "cell_type": "markdown",
   "metadata": {},
   "source": [
    "visualize"
   ]
  },
  {
   "cell_type": "code",
   "execution_count": null,
   "metadata": {},
   "outputs": [],
   "source": [
    "plt.rcParams[\"figure.figsize\"] = 10, 5\n",
    "\n",
    "view_range = 3000   # mm\n",
    "x_view_center = 500 # mm\n",
    "y_view_center = 0   # mm\n",
    "z_view_center = 0   # mm\n",
    "\n",
    "which_snapshot = 1\n",
    "xs = snapshots[which_snapshot][:,0]\n",
    "ys = snapshots[which_snapshot][:,1]\n",
    "zs = snapshots[which_snapshot][:,2]\n",
    "\n",
    "fig = plt.figure()\n",
    "ax = fig.add_subplot(111, projection='3d')\n",
    "\n",
    "ax.scatter(zs, xs, ys, color='b')\n",
    "    \n",
    "ax.set_xlabel('Z')\n",
    "ax.set_ylabel('X')\n",
    "ax.set_zlabel('Y')\n",
    "\n",
    "ax.set_xlim((-view_range/2+z_view_center,+view_range/2+z_view_center)) # z\n",
    "ax.set_ylim((-view_range/2+x_view_center,+view_range/2+x_view_center)) # x\n",
    "ax.set_zlim((-view_range/2+y_view_center,+view_range/2+y_view_center)) # y\n",
    "\n",
    "plt.show()"
   ]
  },
  {
   "cell_type": "markdown",
   "metadata": {},
   "source": [
    "save to numpy data file"
   ]
  },
  {
   "cell_type": "code",
   "execution_count": null,
   "metadata": {},
   "outputs": [],
   "source": [
    "cloud = np.zeros((len(xs),3))\n",
    "cloud[:,0] = xs\n",
    "cloud[:,1] = ys\n",
    "cloud[:,2] = zs\n",
    "np.save(\"cloud\", cloud)"
   ]
  },
  {
   "cell_type": "markdown",
   "metadata": {},
   "source": [
    "testing"
   ]
  },
  {
   "cell_type": "code",
   "execution_count": null,
   "metadata": {},
   "outputs": [],
   "source": [
    "c = 299792458\n",
    "m_n = 1.67492749804e-27\n",
    "q_e = 1.602176634e-19\n",
    "\n",
    "b = 1e6*q_e/m_n/c\n",
    "a = np.sqrt(np.sum((p*b)**2,1))"
   ]
  },
  {
   "cell_type": "code",
   "execution_count": null,
   "metadata": {},
   "outputs": [],
   "source": []
  }
 ],
 "metadata": {
  "kernelspec": {
   "display_name": "Python 2",
   "language": "python",
   "name": "python2"
  },
  "language_info": {
   "codemirror_mode": {
    "name": "ipython",
    "version": 2
   },
   "file_extension": ".py",
   "mimetype": "text/x-python",
   "name": "python",
   "nbconvert_exporter": "python",
   "pygments_lexer": "ipython2",
   "version": "2.7.17"
  }
 },
 "nbformat": 4,
 "nbformat_minor": 2
}
